{
 "cells": [
  {
   "cell_type": "code",
   "execution_count": 4,
   "metadata": {},
   "outputs": [],
   "source": [
    "import numpy as np"
   ]
  },
  {
   "attachments": {},
   "cell_type": "markdown",
   "metadata": {},
   "source": [
    "## Count the unique values in a row"
   ]
  },
  {
   "cell_type": "code",
   "execution_count": 39,
   "metadata": {},
   "outputs": [
    {
     "name": "stdout",
     "output_type": "stream",
     "text": [
      "[[1 8 8 3 1 5 2 3 1 8 8 0]\n",
      " [1 4 2 3 8 2 9 0 3 1 4 9]\n",
      " [1 7 1 2 7 4 1 9 0 2 8 3]\n",
      " [9 7 4 6 1 9 2 3 8 9 5 2]\n",
      " [4 8 2 2 6 5 6 2 1 3 5 1]\n",
      " [8 1 1 2 6 7 0 1 1 0 5 4]\n",
      " [8 4 4 4 6 2 5 3 4 9 4 9]\n",
      " [6 3 1 8 1 8 0 2 6 0 7 6]\n",
      " [4 8 6 9 0 2 4 1 0 0 2 6]]\n"
     ]
    }
   ],
   "source": [
    "arr = np.random.randint(0, 10, size=(9,12))\n",
    "print(arr)"
   ]
  },
  {
   "cell_type": "code",
   "execution_count": 40,
   "metadata": {},
   "outputs": [
    {
     "name": "stdout",
     "output_type": "stream",
     "text": [
      "(9, 12)\n"
     ]
    }
   ],
   "source": [
    "#(m, n) where m is the number of rows and n is the number of columns\n",
    "print(arr.shape)"
   ]
  },
  {
   "cell_type": "code",
   "execution_count": 41,
   "metadata": {},
   "outputs": [],
   "source": [
    "def count_unique(arr):\n",
    "    return len(np.unique(arr))"
   ]
  },
  {
   "cell_type": "code",
   "execution_count": 47,
   "metadata": {},
   "outputs": [
    {
     "name": "stdout",
     "output_type": "stream",
     "text": [
      "[6, 7, 8, 9, 7, 8, 7, 7, 7]\n"
     ]
    }
   ],
   "source": [
    "unique_values = [count_unique(i) for i in arr]\n",
    "print(unique_values)"
   ]
  },
  {
   "attachments": {},
   "cell_type": "markdown",
   "metadata": {},
   "source": [
    "#### Return Counts"
   ]
  },
  {
   "cell_type": "code",
   "execution_count": 54,
   "metadata": {},
   "outputs": [
    {
     "name": "stdout",
     "output_type": "stream",
     "text": [
      "[[array([0, 1, 2, 3, 5, 8]), array([1, 3, 1, 2, 1, 4]), 6], [array([0, 1, 2, 3, 4, 8, 9]), array([1, 2, 2, 2, 2, 1, 2]), 7], [array([0, 1, 2, 3, 4, 7, 8, 9]), array([1, 3, 2, 1, 1, 2, 1, 1]), 8], [array([1, 2, 3, 4, 5, 6, 7, 8, 9]), array([1, 2, 1, 1, 1, 1, 1, 1, 3]), 9], [array([1, 2, 3, 4, 5, 6, 8]), array([2, 3, 1, 1, 2, 2, 1]), 7], [array([0, 1, 2, 4, 5, 6, 7, 8]), array([2, 4, 1, 1, 1, 1, 1, 1]), 8], [array([2, 3, 4, 5, 6, 8, 9]), array([1, 1, 5, 1, 1, 1, 2]), 7], [array([0, 1, 2, 3, 6, 7, 8]), array([2, 2, 1, 1, 3, 1, 2]), 7], [array([0, 1, 2, 4, 6, 8, 9]), array([3, 1, 2, 2, 2, 1, 1]), 7]]\n"
     ]
    }
   ],
   "source": [
    "def unique_count(arr):\n",
    "    unique_values, occurence_count = np.unique(arr, return_counts=True)\n",
    "    count = len(unique_values)\n",
    "    return [unique_values, occurence_count, count]\n",
    "        \n",
    "unique_values = [unique_count(i) for i in arr]\n",
    "print(unique_values)"
   ]
  },
  {
   "attachments": {},
   "cell_type": "markdown",
   "metadata": {},
   "source": [
    "## Checkerboard arrays\n",
    "\n",
    "- Create a numpy array of dimension (20,20) and fill it with a checkerboard pattern of 1's and 0's"
   ]
  },
  {
   "cell_type": "code",
   "execution_count": 9,
   "metadata": {},
   "outputs": [
    {
     "name": "stdout",
     "output_type": "stream",
     "text": [
      "[2 3 4]\n",
      "[2 4 6]\n"
     ]
    }
   ],
   "source": [
    "x = np.array([1, 2, 3, 4, 5, 6, 7])\n",
    "#sliced\n",
    "print(x[1:4])\n",
    "#sliced in steps\n",
    "print(x[1:6:2])"
   ]
  },
  {
   "cell_type": "code",
   "execution_count": 10,
   "metadata": {},
   "outputs": [
    {
     "name": "stdout",
     "output_type": "stream",
     "text": [
      "[[1. 0. 1. 0. 1. 0. 1. 0. 1. 0. 1. 0. 1. 0. 1. 0. 1. 0. 1. 0.]\n",
      " [0. 1. 0. 1. 0. 1. 0. 1. 0. 1. 0. 1. 0. 1. 0. 1. 0. 1. 0. 1.]\n",
      " [1. 0. 1. 0. 1. 0. 1. 0. 1. 0. 1. 0. 1. 0. 1. 0. 1. 0. 1. 0.]\n",
      " [0. 1. 0. 1. 0. 1. 0. 1. 0. 1. 0. 1. 0. 1. 0. 1. 0. 1. 0. 1.]\n",
      " [1. 0. 1. 0. 1. 0. 1. 0. 1. 0. 1. 0. 1. 0. 1. 0. 1. 0. 1. 0.]\n",
      " [0. 1. 0. 1. 0. 1. 0. 1. 0. 1. 0. 1. 0. 1. 0. 1. 0. 1. 0. 1.]\n",
      " [1. 0. 1. 0. 1. 0. 1. 0. 1. 0. 1. 0. 1. 0. 1. 0. 1. 0. 1. 0.]\n",
      " [0. 1. 0. 1. 0. 1. 0. 1. 0. 1. 0. 1. 0. 1. 0. 1. 0. 1. 0. 1.]\n",
      " [1. 0. 1. 0. 1. 0. 1. 0. 1. 0. 1. 0. 1. 0. 1. 0. 1. 0. 1. 0.]\n",
      " [0. 1. 0. 1. 0. 1. 0. 1. 0. 1. 0. 1. 0. 1. 0. 1. 0. 1. 0. 1.]\n",
      " [1. 0. 1. 0. 1. 0. 1. 0. 1. 0. 1. 0. 1. 0. 1. 0. 1. 0. 1. 0.]\n",
      " [0. 1. 0. 1. 0. 1. 0. 1. 0. 1. 0. 1. 0. 1. 0. 1. 0. 1. 0. 1.]\n",
      " [1. 0. 1. 0. 1. 0. 1. 0. 1. 0. 1. 0. 1. 0. 1. 0. 1. 0. 1. 0.]\n",
      " [0. 1. 0. 1. 0. 1. 0. 1. 0. 1. 0. 1. 0. 1. 0. 1. 0. 1. 0. 1.]\n",
      " [1. 0. 1. 0. 1. 0. 1. 0. 1. 0. 1. 0. 1. 0. 1. 0. 1. 0. 1. 0.]\n",
      " [0. 1. 0. 1. 0. 1. 0. 1. 0. 1. 0. 1. 0. 1. 0. 1. 0. 1. 0. 1.]\n",
      " [1. 0. 1. 0. 1. 0. 1. 0. 1. 0. 1. 0. 1. 0. 1. 0. 1. 0. 1. 0.]\n",
      " [0. 1. 0. 1. 0. 1. 0. 1. 0. 1. 0. 1. 0. 1. 0. 1. 0. 1. 0. 1.]\n",
      " [1. 0. 1. 0. 1. 0. 1. 0. 1. 0. 1. 0. 1. 0. 1. 0. 1. 0. 1. 0.]\n",
      " [0. 1. 0. 1. 0. 1. 0. 1. 0. 1. 0. 1. 0. 1. 0. 1. 0. 1. 0. 1.]]\n"
     ]
    }
   ],
   "source": [
    "checkers = np.zeros((20,20))\n",
    "#from the 0th row to the last row in steps of 2 rows, from the 0th index to the last index in steps of 2\n",
    "checkers[::2, ::2]=1\n",
    "#from the 1st row to the last row in steps of 2 rows, from the 1st index to the last index in steps of 2\n",
    "checkers[1: :2, 1: :2]=1\n",
    "print(checkers)"
   ]
  },
  {
   "attachments": {},
   "cell_type": "markdown",
   "metadata": {},
   "source": [
    "## Broadcasting\n",
    "- create a random matrix of binary values (0, 1)\n",
    "- Create a vector with as many rows as the matrix containing random positive integers between 1 and 5\n",
    "- Add the vector to every column using broadcasting\n",
    "- Create a new matrix by multiplying the columns of the original by the vector\n",
    "- Create a new matrix by multiplying every element by a scalar value\n",
    "\n"
   ]
  },
  {
   "cell_type": "code",
   "execution_count": 32,
   "metadata": {},
   "outputs": [
    {
     "name": "stdout",
     "output_type": "stream",
     "text": [
      "[[0 1 0 0 1 0 1]\n",
      " [1 0 1 1 1 1 0]\n",
      " [1 1 0 0 0 0 0]\n",
      " [1 1 1 1 1 1 0]\n",
      " [0 0 0 0 0 0 0]\n",
      " [0 0 1 1 0 0 1]\n",
      " [0 1 0 1 0 0 0]\n",
      " [1 0 0 0 0 1 1]\n",
      " [0 0 1 0 1 0 1]\n",
      " [1 1 1 0 1 1 1]]\n"
     ]
    }
   ],
   "source": [
    "#matrix of random binary values\n",
    "import random\n",
    "rows = random.randint(3, 13)\n",
    "columns = random.randint(3,13)\n",
    "random_matrix = np.random.randint(0,2, size=(rows,columns))\n",
    "print(random_matrix)\n"
   ]
  },
  {
   "cell_type": "code",
   "execution_count": 33,
   "metadata": {},
   "outputs": [
    {
     "name": "stdout",
     "output_type": "stream",
     "text": [
      "(10, 7)\n"
     ]
    }
   ],
   "source": [
    "print(random_matrix.shape)"
   ]
  },
  {
   "cell_type": "code",
   "execution_count": 35,
   "metadata": {},
   "outputs": [
    {
     "name": "stdout",
     "output_type": "stream",
     "text": [
      "[2 4 2 4 1 1 1]\n"
     ]
    }
   ],
   "source": [
    "bc_vector = np.random.randint(1,5, size=(1, columns))[0]\n",
    "print(bc_vector)"
   ]
  },
  {
   "cell_type": "code",
   "execution_count": 36,
   "metadata": {},
   "outputs": [
    {
     "name": "stdout",
     "output_type": "stream",
     "text": [
      "[[2 5 2 4 2 1 2]\n",
      " [3 4 3 5 2 2 1]\n",
      " [3 5 2 4 1 1 1]\n",
      " [3 5 3 5 2 2 1]\n",
      " [2 4 2 4 1 1 1]\n",
      " [2 4 3 5 1 1 2]\n",
      " [2 5 2 5 1 1 1]\n",
      " [3 4 2 4 1 2 2]\n",
      " [2 4 3 4 2 1 2]\n",
      " [3 5 3 4 2 2 2]]\n"
     ]
    }
   ],
   "source": [
    "bc_matrix = random_matrix + bc_vector\n",
    "print(bc_matrix)\n"
   ]
  },
  {
   "cell_type": "code",
   "execution_count": 37,
   "metadata": {},
   "outputs": [
    {
     "name": "stdout",
     "output_type": "stream",
     "text": [
      "[[ 4 20  4 16  2  1  2]\n",
      " [ 6 16  6 20  2  2  1]\n",
      " [ 6 20  4 16  1  1  1]\n",
      " [ 6 20  6 20  2  2  1]\n",
      " [ 4 16  4 16  1  1  1]\n",
      " [ 4 16  6 20  1  1  2]\n",
      " [ 4 20  4 20  1  1  1]\n",
      " [ 6 16  4 16  1  2  2]\n",
      " [ 4 16  6 16  2  1  2]\n",
      " [ 6 20  6 16  2  2  2]]\n"
     ]
    }
   ],
   "source": [
    "multiplied_matrix = bc_matrix * bc_vector\n",
    "print(multiplied_matrix)"
   ]
  },
  {
   "cell_type": "code",
   "execution_count": 38,
   "metadata": {},
   "outputs": [
    {
     "name": "stdout",
     "output_type": "stream",
     "text": [
      "[[12 60 12 48  6  3  6]\n",
      " [18 48 18 60  6  6  3]\n",
      " [18 60 12 48  3  3  3]\n",
      " [18 60 18 60  6  6  3]\n",
      " [12 48 12 48  3  3  3]\n",
      " [12 48 18 60  3  3  6]\n",
      " [12 60 12 60  3  3  3]\n",
      " [18 48 12 48  3  6  6]\n",
      " [12 48 18 48  6  3  6]\n",
      " [18 60 18 48  6  6  6]]\n"
     ]
    }
   ],
   "source": [
    "scalar = 3\n",
    "multiplied_matrix *= scalar\n",
    "print(multiplied_matrix)"
   ]
  },
  {
   "attachments": {},
   "cell_type": "markdown",
   "metadata": {},
   "source": [
    "## Fancy Indexing\n",
    "- Look at the numpy docs to explore all the ways which you can use numpy to generate tensors/matrices/arrays of random numbers\n",
    "- Create a matrix of random numbers with 4 rows and 6 columns\n",
    "- Index the element on the 3rd row, 2nd column\n",
    "- Index all the even rows\n",
    "- Index the elements on even rows and odd columns\n",
    "- Index the elements along the diagonal"
   ]
  },
  {
   "cell_type": "code",
   "execution_count": 57,
   "metadata": {},
   "outputs": [
    {
     "name": "stdout",
     "output_type": "stream",
     "text": [
      "[1 1 1 0 1 0 0 1 0 0]\n"
     ]
    }
   ],
   "source": [
    "rng = np.random.default_rng()\n",
    "arr = rng.integers(2, size=10)\n",
    "print(arr)"
   ]
  },
  {
   "cell_type": "code",
   "execution_count": 61,
   "metadata": {},
   "outputs": [
    {
     "name": "stdout",
     "output_type": "stream",
     "text": [
      "[[0.69537124 0.87857356 0.75678594]\n",
      " [0.32517498 0.16707181 0.45763821]]\n"
     ]
    }
   ],
   "source": [
    "mat = rng.random((2,3))\n",
    "print(mat)"
   ]
  },
  {
   "cell_type": "code",
   "execution_count": 62,
   "metadata": {},
   "outputs": [
    {
     "name": "stdout",
     "output_type": "stream",
     "text": [
      "[[[0.07388641 0.47402905]\n",
      "  [0.91586459 0.13476398]\n",
      "  [0.69427255 0.25271321]]\n",
      "\n",
      " [[0.87816039 0.04744535]\n",
      "  [0.29438863 0.78097607]\n",
      "  [0.36565917 0.43072367]]]\n"
     ]
    }
   ],
   "source": [
    "ten = rng.random((2,3,2))\n",
    "print(ten)"
   ]
  },
  {
   "cell_type": "code",
   "execution_count": 64,
   "metadata": {},
   "outputs": [
    {
     "name": "stdout",
     "output_type": "stream",
     "text": [
      "[[9 6 6 0 5 7]\n",
      " [3 6 6 6 6 8]\n",
      " [7 2 6 3 4 5]\n",
      " [6 6 0 7 9 4]]\n"
     ]
    }
   ],
   "source": [
    "A = np.random.randint(0,10, size = (4, 6))\n",
    "print(A)"
   ]
  },
  {
   "cell_type": "code",
   "execution_count": 72,
   "metadata": {},
   "outputs": [
    {
     "name": "stdout",
     "output_type": "stream",
     "text": [
      "2\n"
     ]
    }
   ],
   "source": [
    "#index third row second column\n",
    "i = A[2,1]\n",
    "print(i)"
   ]
  },
  {
   "cell_type": "code",
   "execution_count": 76,
   "metadata": {},
   "outputs": [
    {
     "name": "stdout",
     "output_type": "stream",
     "text": [
      "[[9 6 6 0 5 7]\n",
      " [7 2 6 3 4 5]]\n"
     ]
    }
   ],
   "source": [
    "#index all even rows\n",
    "i = A[:: 2]\n",
    "print(i)"
   ]
  },
  {
   "cell_type": "code",
   "execution_count": 78,
   "metadata": {},
   "outputs": [
    {
     "name": "stdout",
     "output_type": "stream",
     "text": [
      "[[6 0 7]\n",
      " [2 3 5]]\n"
     ]
    }
   ],
   "source": [
    "#index all elements on even rows and odd columns\n",
    "i = A[:: 2, 1::2]\n",
    "print(i)"
   ]
  },
  {
   "cell_type": "code",
   "execution_count": 79,
   "metadata": {},
   "outputs": [
    {
     "name": "stdout",
     "output_type": "stream",
     "text": [
      "[9 6 6 7]\n"
     ]
    }
   ],
   "source": [
    "#index the elements along the diagonal\n",
    "i = A[(0,1,2,3), (0,1,2,3)]\n",
    "print(i)"
   ]
  },
  {
   "attachments": {},
   "cell_type": "markdown",
   "metadata": {},
   "source": [
    "## Bordering an array\n",
    "\n",
    "- Write a numpy program to add a border of zeros to the outside elements of an array of size (20,20)\n",
    "- Can you do it with a 3D array of dimension (20,20,20)?\n",
    "- Try the same with an array of dimension (20,40,10)"
   ]
  },
  {
   "cell_type": "code",
   "execution_count": 90,
   "metadata": {},
   "outputs": [
    {
     "name": "stdout",
     "output_type": "stream",
     "text": [
      "[[7 4 0 8 6 6 1 7 4 0 5 4 0 6 0 0 6 7 5 4]\n",
      " [5 8 1 4 5 7 4 5 5 0 8 1 0 5 8 4 1 8 5 5]\n",
      " [2 1 7 2 6 7 4 5 7 1 0 7 5 0 5 4 7 6 8 7]\n",
      " [6 6 4 0 0 4 0 4 5 6 2 2 1 6 5 6 3 0 0 0]\n",
      " [2 8 6 5 0 6 7 2 0 6 1 4 0 7 6 4 4 6 7 4]\n",
      " [4 6 4 4 5 2 4 3 0 0 7 2 8 3 8 2 4 2 8 7]\n",
      " [5 2 5 0 2 0 2 3 2 5 4 3 7 0 4 7 3 1 4 7]\n",
      " [0 0 3 7 8 0 6 6 8 0 8 7 2 0 7 8 7 0 3 2]\n",
      " [8 5 6 4 1 7 6 6 1 3 2 7 1 8 2 4 0 2 2 5]\n",
      " [1 1 2 2 5 3 8 0 2 6 4 0 3 3 5 7 5 2 1 3]\n",
      " [0 8 3 6 8 6 1 8 3 3 1 8 2 7 4 8 5 5 2 4]\n",
      " [5 7 3 0 3 1 6 0 2 4 8 8 1 0 3 5 8 3 2 8]\n",
      " [6 4 5 6 5 7 4 5 6 3 2 3 0 6 1 2 0 3 4 4]\n",
      " [7 0 2 1 5 6 1 1 0 2 7 4 5 4 5 3 1 1 8 6]\n",
      " [6 4 5 6 1 4 6 6 3 3 6 7 7 5 5 8 2 1 3 3]\n",
      " [5 4 4 7 8 6 6 5 1 1 6 3 3 6 6 6 5 0 4 5]\n",
      " [1 4 1 5 2 0 7 4 7 1 0 5 8 5 7 5 2 2 3 7]\n",
      " [6 2 2 8 3 4 8 2 8 7 0 8 0 2 1 4 8 5 0 5]\n",
      " [4 0 2 2 8 6 1 3 3 7 1 6 0 7 3 5 4 5 3 0]\n",
      " [0 2 7 4 7 3 4 0 4 8 7 8 3 2 3 8 6 1 4 6]]\n"
     ]
    }
   ],
   "source": [
    "arr = np.random.randint(0,9, size=(20,20))\n",
    "print(arr)"
   ]
  },
  {
   "cell_type": "code",
   "execution_count": 91,
   "metadata": {},
   "outputs": [
    {
     "name": "stdout",
     "output_type": "stream",
     "text": [
      "[[0 0 0 0 0 0 0 0 0 0 0 0 0 0 0 0 0 0 0 0]\n",
      " [0 8 1 4 5 7 4 5 5 0 8 1 0 5 8 4 1 8 5 0]\n",
      " [0 1 7 2 6 7 4 5 7 1 0 7 5 0 5 4 7 6 8 0]\n",
      " [0 6 4 0 0 4 0 4 5 6 2 2 1 6 5 6 3 0 0 0]\n",
      " [0 8 6 5 0 6 7 2 0 6 1 4 0 7 6 4 4 6 7 0]\n",
      " [0 6 4 4 5 2 4 3 0 0 7 2 8 3 8 2 4 2 8 0]\n",
      " [0 2 5 0 2 0 2 3 2 5 4 3 7 0 4 7 3 1 4 0]\n",
      " [0 0 3 7 8 0 6 6 8 0 8 7 2 0 7 8 7 0 3 0]\n",
      " [0 5 6 4 1 7 6 6 1 3 2 7 1 8 2 4 0 2 2 0]\n",
      " [0 1 2 2 5 3 8 0 2 6 4 0 3 3 5 7 5 2 1 0]\n",
      " [0 8 3 6 8 6 1 8 3 3 1 8 2 7 4 8 5 5 2 0]\n",
      " [0 7 3 0 3 1 6 0 2 4 8 8 1 0 3 5 8 3 2 0]\n",
      " [0 4 5 6 5 7 4 5 6 3 2 3 0 6 1 2 0 3 4 0]\n",
      " [0 0 2 1 5 6 1 1 0 2 7 4 5 4 5 3 1 1 8 0]\n",
      " [0 4 5 6 1 4 6 6 3 3 6 7 7 5 5 8 2 1 3 0]\n",
      " [0 4 4 7 8 6 6 5 1 1 6 3 3 6 6 6 5 0 4 0]\n",
      " [0 4 1 5 2 0 7 4 7 1 0 5 8 5 7 5 2 2 3 0]\n",
      " [0 2 2 8 3 4 8 2 8 7 0 8 0 2 1 4 8 5 0 0]\n",
      " [0 0 2 2 8 6 1 3 3 7 1 6 0 7 3 5 4 5 3 0]\n",
      " [0 0 0 0 0 0 0 0 0 0 0 0 0 0 0 0 0 0 0 0]]\n"
     ]
    }
   ],
   "source": [
    "arr[:, [0, -1]] = arr[[0,-1]] = 0\n",
    "print(arr)"
   ]
  },
  {
   "cell_type": "code",
   "execution_count": 109,
   "metadata": {},
   "outputs": [
    {
     "name": "stdout",
     "output_type": "stream",
     "text": [
      "[[1 1 8 3 2 0 0 0 4 5]\n",
      " [2 2 4 6 7 3 8 6 3 7]\n",
      " [2 4 3 1 5 4 8 2 1 0]\n",
      " [7 3 2 1 6 7 6 6 1 8]\n",
      " [7 8 7 3 1 5 4 6 6 0]\n",
      " [6 3 7 3 5 4 6 4 7 5]\n",
      " [5 2 8 6 6 5 5 8 0 4]\n",
      " [8 3 1 5 7 8 2 4 0 0]\n",
      " [4 7 1 7 5 0 8 6 4 4]\n",
      " [8 6 4 3 6 0 7 6 3 0]\n",
      " [3 4 8 7 3 6 3 4 4 0]\n",
      " [3 8 3 2 7 8 4 1 4 0]\n",
      " [3 7 8 1 7 6 7 3 4 1]\n",
      " [2 1 7 0 6 7 3 0 7 2]\n",
      " [5 5 5 6 7 4 2 5 6 5]\n",
      " [1 1 0 0 8 4 8 4 7 4]\n",
      " [3 6 2 2 1 2 0 2 5 3]\n",
      " [5 0 8 2 1 1 8 3 2 8]\n",
      " [2 6 0 1 4 6 6 7 1 0]\n",
      " [8 4 8 1 6 6 4 1 5 6]\n",
      " [8 4 0 0 7 5 8 3 3 8]\n",
      " [2 8 8 6 1 2 5 8 4 1]\n",
      " [5 1 4 4 1 4 5 2 5 5]\n",
      " [1 5 4 1 2 1 4 7 7 2]\n",
      " [5 4 1 7 2 0 5 6 1 2]\n",
      " [8 0 4 5 0 6 1 3 2 0]\n",
      " [2 1 3 2 2 7 7 3 1 2]\n",
      " [2 0 1 5 1 2 8 4 4 5]\n",
      " [7 6 8 7 5 3 2 1 5 1]\n",
      " [3 1 7 1 8 6 4 3 0 1]\n",
      " [3 2 3 6 7 2 3 2 7 3]\n",
      " [8 6 1 8 0 0 1 0 7 6]\n",
      " [6 3 6 3 4 1 8 3 1 6]\n",
      " [4 4 8 3 5 4 0 0 0 6]\n",
      " [7 3 3 1 7 4 3 0 3 8]\n",
      " [1 7 8 1 7 8 1 8 3 8]\n",
      " [0 7 1 0 0 7 4 0 7 5]\n",
      " [6 4 7 6 1 6 0 7 7 6]\n",
      " [1 6 8 1 1 7 3 3 1 1]\n",
      " [3 0 0 1 8 6 5 4 3 5]]\n"
     ]
    }
   ],
   "source": [
    "arr = np.random.randint(0,9, size=(20,40,10))\n",
    "print(arr[0])"
   ]
  },
  {
   "cell_type": "code",
   "execution_count": 110,
   "metadata": {},
   "outputs": [
    {
     "name": "stdout",
     "output_type": "stream",
     "text": [
      "[[[0 0 0 ... 0 0 0]\n",
      "  [0 2 4 ... 6 3 0]\n",
      "  [0 4 3 ... 2 1 0]\n",
      "  ...\n",
      "  [0 4 7 ... 7 7 0]\n",
      "  [0 6 8 ... 3 1 0]\n",
      "  [0 0 0 ... 0 0 0]]\n",
      "\n",
      " [[0 0 0 ... 0 0 0]\n",
      "  [0 6 1 ... 4 5 0]\n",
      "  [0 7 0 ... 8 6 0]\n",
      "  ...\n",
      "  [0 6 8 ... 5 6 0]\n",
      "  [0 5 1 ... 8 2 0]\n",
      "  [0 0 0 ... 0 0 0]]\n",
      "\n",
      " [[0 0 0 ... 0 0 0]\n",
      "  [0 8 1 ... 1 3 0]\n",
      "  [0 1 8 ... 3 5 0]\n",
      "  ...\n",
      "  [0 8 8 ... 4 8 0]\n",
      "  [0 4 8 ... 0 5 0]\n",
      "  [0 0 0 ... 0 0 0]]\n",
      "\n",
      " ...\n",
      "\n",
      " [[0 0 0 ... 0 0 0]\n",
      "  [0 6 3 ... 6 4 0]\n",
      "  [0 2 1 ... 0 4 0]\n",
      "  ...\n",
      "  [0 8 5 ... 4 3 0]\n",
      "  [0 4 1 ... 0 6 0]\n",
      "  [0 0 0 ... 0 0 0]]\n",
      "\n",
      " [[0 0 0 ... 0 0 0]\n",
      "  [0 5 3 ... 4 6 0]\n",
      "  [0 6 0 ... 8 7 0]\n",
      "  ...\n",
      "  [0 6 4 ... 4 3 0]\n",
      "  [0 8 4 ... 8 6 0]\n",
      "  [0 0 0 ... 0 0 0]]\n",
      "\n",
      " [[0 0 0 ... 0 0 0]\n",
      "  [0 2 3 ... 7 5 0]\n",
      "  [0 5 7 ... 0 0 0]\n",
      "  ...\n",
      "  [0 6 2 ... 4 7 0]\n",
      "  [0 6 6 ... 8 1 0]\n",
      "  [0 0 0 ... 0 0 0]]]\n"
     ]
    }
   ],
   "source": [
    "arr[:,:, [0, -1]] = arr[:,[0,-1]] = 0\n",
    "print(arr)"
   ]
  }
 ],
 "metadata": {
  "kernelspec": {
   "display_name": "base",
   "language": "python",
   "name": "python3"
  },
  "language_info": {
   "codemirror_mode": {
    "name": "ipython",
    "version": 3
   },
   "file_extension": ".py",
   "mimetype": "text/x-python",
   "name": "python",
   "nbconvert_exporter": "python",
   "pygments_lexer": "ipython3",
   "version": "3.9.15"
  },
  "orig_nbformat": 4,
  "vscode": {
   "interpreter": {
    "hash": "dd7fbaa1678673bba69b47bd4d6a77f0f12e15aad6b654fb8569d534dbe2f414"
   }
  }
 },
 "nbformat": 4,
 "nbformat_minor": 2
}
